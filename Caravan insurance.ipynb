{
  "cells": [
    {
      "cell_type": "code",
      "execution_count": 1,
      "id": "bd4f1c43",
      "metadata": {
        "id": "bd4f1c43",
        "outputId": "5dd78be3-2d37-4925-d3e2-8f6f0d15ff89",
        "colab": {
          "base_uri": "https://localhost:8080/"
        }
      },
      "outputs": [
        {
          "output_type": "stream",
          "name": "stdout",
          "text": [
            "Drive already mounted at /content/drive; to attempt to forcibly remount, call drive.mount(\"/content/drive\", force_remount=True).\n"
          ]
        }
      ],
      "source": [
        "import numpy as np\n",
        "import pandas as pd\n",
        "import seaborn as sns\n",
        "import matplotlib.pyplot as plt\n",
        "from google.colab import drive\n",
        "\n",
        "drive.mount('/content/drive')\n",
        "path = '/content/drive/MyDrive/IIIT-A Internship/caravan-insurance-challenge.csv'\n",
        "data = pd.read_csv(path)"
      ]
    },
    {
      "cell_type": "code",
      "execution_count": 2,
      "id": "56adeaba",
      "metadata": {
        "id": "56adeaba",
        "outputId": "c847b4d0-0877-4d10-9465-58093910039f",
        "colab": {
          "base_uri": "https://localhost:8080/",
          "height": 412
        }
      },
      "outputs": [
        {
          "output_type": "execute_result",
          "data": {
            "text/plain": [
              "  ORIGIN  MOSTYPE  MAANTHUI  MGEMOMV  MGEMLEEF  MOSHOOFD  MGODRK  MGODPR  \\\n",
              "0  train       33         1        3         2         8       0       5   \n",
              "1  train       37         1        2         2         8       1       4   \n",
              "2  train       37         1        2         2         8       0       4   \n",
              "3  train        9         1        3         3         3       2       3   \n",
              "4  train       40         1        4         2        10       1       4   \n",
              "5  train       23         1        2         1         5       0       5   \n",
              "6  train       39         2        3         2         9       2       2   \n",
              "7  train       33         1        2         3         8       0       7   \n",
              "8  train       33         1        2         4         8       0       1   \n",
              "9  train       11         2        3         3         3       3       5   \n",
              "\n",
              "   MGODOV  MGODGE  ...  APERSONG  AGEZONG  AWAOREG  ABRAND  AZEILPL  APLEZIER  \\\n",
              "0       1       3  ...         0        0        0       1        0         0   \n",
              "1       1       4  ...         0        0        0       1        0         0   \n",
              "2       2       4  ...         0        0        0       1        0         0   \n",
              "3       2       4  ...         0        0        0       1        0         0   \n",
              "4       1       4  ...         0        0        0       1        0         0   \n",
              "5       0       5  ...         0        0        0       0        0         0   \n",
              "6       0       5  ...         0        0        0       0        0         0   \n",
              "7       0       2  ...         0        0        0       0        0         0   \n",
              "8       3       6  ...         0        0        0       0        0         0   \n",
              "9       0       2  ...         0        0        0       1        0         0   \n",
              "\n",
              "   AFIETS  AINBOED  ABYSTAND  CARAVAN  \n",
              "0       0        0         0        0  \n",
              "1       0        0         0        0  \n",
              "2       0        0         0        0  \n",
              "3       0        0         0        0  \n",
              "4       0        0         0        0  \n",
              "5       0        0         0        0  \n",
              "6       0        0         0        0  \n",
              "7       0        0         0        0  \n",
              "8       0        0         0        0  \n",
              "9       0        0         0        0  \n",
              "\n",
              "[10 rows x 87 columns]"
            ],
            "text/html": [
              "\n",
              "  <div id=\"df-bcd8d253-570a-42ee-9b4e-edf12c7aba63\" class=\"colab-df-container\">\n",
              "    <div>\n",
              "<style scoped>\n",
              "    .dataframe tbody tr th:only-of-type {\n",
              "        vertical-align: middle;\n",
              "    }\n",
              "\n",
              "    .dataframe tbody tr th {\n",
              "        vertical-align: top;\n",
              "    }\n",
              "\n",
              "    .dataframe thead th {\n",
              "        text-align: right;\n",
              "    }\n",
              "</style>\n",
              "<table border=\"1\" class=\"dataframe\">\n",
              "  <thead>\n",
              "    <tr style=\"text-align: right;\">\n",
              "      <th></th>\n",
              "      <th>ORIGIN</th>\n",
              "      <th>MOSTYPE</th>\n",
              "      <th>MAANTHUI</th>\n",
              "      <th>MGEMOMV</th>\n",
              "      <th>MGEMLEEF</th>\n",
              "      <th>MOSHOOFD</th>\n",
              "      <th>MGODRK</th>\n",
              "      <th>MGODPR</th>\n",
              "      <th>MGODOV</th>\n",
              "      <th>MGODGE</th>\n",
              "      <th>...</th>\n",
              "      <th>APERSONG</th>\n",
              "      <th>AGEZONG</th>\n",
              "      <th>AWAOREG</th>\n",
              "      <th>ABRAND</th>\n",
              "      <th>AZEILPL</th>\n",
              "      <th>APLEZIER</th>\n",
              "      <th>AFIETS</th>\n",
              "      <th>AINBOED</th>\n",
              "      <th>ABYSTAND</th>\n",
              "      <th>CARAVAN</th>\n",
              "    </tr>\n",
              "  </thead>\n",
              "  <tbody>\n",
              "    <tr>\n",
              "      <th>0</th>\n",
              "      <td>train</td>\n",
              "      <td>33</td>\n",
              "      <td>1</td>\n",
              "      <td>3</td>\n",
              "      <td>2</td>\n",
              "      <td>8</td>\n",
              "      <td>0</td>\n",
              "      <td>5</td>\n",
              "      <td>1</td>\n",
              "      <td>3</td>\n",
              "      <td>...</td>\n",
              "      <td>0</td>\n",
              "      <td>0</td>\n",
              "      <td>0</td>\n",
              "      <td>1</td>\n",
              "      <td>0</td>\n",
              "      <td>0</td>\n",
              "      <td>0</td>\n",
              "      <td>0</td>\n",
              "      <td>0</td>\n",
              "      <td>0</td>\n",
              "    </tr>\n",
              "    <tr>\n",
              "      <th>1</th>\n",
              "      <td>train</td>\n",
              "      <td>37</td>\n",
              "      <td>1</td>\n",
              "      <td>2</td>\n",
              "      <td>2</td>\n",
              "      <td>8</td>\n",
              "      <td>1</td>\n",
              "      <td>4</td>\n",
              "      <td>1</td>\n",
              "      <td>4</td>\n",
              "      <td>...</td>\n",
              "      <td>0</td>\n",
              "      <td>0</td>\n",
              "      <td>0</td>\n",
              "      <td>1</td>\n",
              "      <td>0</td>\n",
              "      <td>0</td>\n",
              "      <td>0</td>\n",
              "      <td>0</td>\n",
              "      <td>0</td>\n",
              "      <td>0</td>\n",
              "    </tr>\n",
              "    <tr>\n",
              "      <th>2</th>\n",
              "      <td>train</td>\n",
              "      <td>37</td>\n",
              "      <td>1</td>\n",
              "      <td>2</td>\n",
              "      <td>2</td>\n",
              "      <td>8</td>\n",
              "      <td>0</td>\n",
              "      <td>4</td>\n",
              "      <td>2</td>\n",
              "      <td>4</td>\n",
              "      <td>...</td>\n",
              "      <td>0</td>\n",
              "      <td>0</td>\n",
              "      <td>0</td>\n",
              "      <td>1</td>\n",
              "      <td>0</td>\n",
              "      <td>0</td>\n",
              "      <td>0</td>\n",
              "      <td>0</td>\n",
              "      <td>0</td>\n",
              "      <td>0</td>\n",
              "    </tr>\n",
              "    <tr>\n",
              "      <th>3</th>\n",
              "      <td>train</td>\n",
              "      <td>9</td>\n",
              "      <td>1</td>\n",
              "      <td>3</td>\n",
              "      <td>3</td>\n",
              "      <td>3</td>\n",
              "      <td>2</td>\n",
              "      <td>3</td>\n",
              "      <td>2</td>\n",
              "      <td>4</td>\n",
              "      <td>...</td>\n",
              "      <td>0</td>\n",
              "      <td>0</td>\n",
              "      <td>0</td>\n",
              "      <td>1</td>\n",
              "      <td>0</td>\n",
              "      <td>0</td>\n",
              "      <td>0</td>\n",
              "      <td>0</td>\n",
              "      <td>0</td>\n",
              "      <td>0</td>\n",
              "    </tr>\n",
              "    <tr>\n",
              "      <th>4</th>\n",
              "      <td>train</td>\n",
              "      <td>40</td>\n",
              "      <td>1</td>\n",
              "      <td>4</td>\n",
              "      <td>2</td>\n",
              "      <td>10</td>\n",
              "      <td>1</td>\n",
              "      <td>4</td>\n",
              "      <td>1</td>\n",
              "      <td>4</td>\n",
              "      <td>...</td>\n",
              "      <td>0</td>\n",
              "      <td>0</td>\n",
              "      <td>0</td>\n",
              "      <td>1</td>\n",
              "      <td>0</td>\n",
              "      <td>0</td>\n",
              "      <td>0</td>\n",
              "      <td>0</td>\n",
              "      <td>0</td>\n",
              "      <td>0</td>\n",
              "    </tr>\n",
              "    <tr>\n",
              "      <th>5</th>\n",
              "      <td>train</td>\n",
              "      <td>23</td>\n",
              "      <td>1</td>\n",
              "      <td>2</td>\n",
              "      <td>1</td>\n",
              "      <td>5</td>\n",
              "      <td>0</td>\n",
              "      <td>5</td>\n",
              "      <td>0</td>\n",
              "      <td>5</td>\n",
              "      <td>...</td>\n",
              "      <td>0</td>\n",
              "      <td>0</td>\n",
              "      <td>0</td>\n",
              "      <td>0</td>\n",
              "      <td>0</td>\n",
              "      <td>0</td>\n",
              "      <td>0</td>\n",
              "      <td>0</td>\n",
              "      <td>0</td>\n",
              "      <td>0</td>\n",
              "    </tr>\n",
              "    <tr>\n",
              "      <th>6</th>\n",
              "      <td>train</td>\n",
              "      <td>39</td>\n",
              "      <td>2</td>\n",
              "      <td>3</td>\n",
              "      <td>2</td>\n",
              "      <td>9</td>\n",
              "      <td>2</td>\n",
              "      <td>2</td>\n",
              "      <td>0</td>\n",
              "      <td>5</td>\n",
              "      <td>...</td>\n",
              "      <td>0</td>\n",
              "      <td>0</td>\n",
              "      <td>0</td>\n",
              "      <td>0</td>\n",
              "      <td>0</td>\n",
              "      <td>0</td>\n",
              "      <td>0</td>\n",
              "      <td>0</td>\n",
              "      <td>0</td>\n",
              "      <td>0</td>\n",
              "    </tr>\n",
              "    <tr>\n",
              "      <th>7</th>\n",
              "      <td>train</td>\n",
              "      <td>33</td>\n",
              "      <td>1</td>\n",
              "      <td>2</td>\n",
              "      <td>3</td>\n",
              "      <td>8</td>\n",
              "      <td>0</td>\n",
              "      <td>7</td>\n",
              "      <td>0</td>\n",
              "      <td>2</td>\n",
              "      <td>...</td>\n",
              "      <td>0</td>\n",
              "      <td>0</td>\n",
              "      <td>0</td>\n",
              "      <td>0</td>\n",
              "      <td>0</td>\n",
              "      <td>0</td>\n",
              "      <td>0</td>\n",
              "      <td>0</td>\n",
              "      <td>0</td>\n",
              "      <td>0</td>\n",
              "    </tr>\n",
              "    <tr>\n",
              "      <th>8</th>\n",
              "      <td>train</td>\n",
              "      <td>33</td>\n",
              "      <td>1</td>\n",
              "      <td>2</td>\n",
              "      <td>4</td>\n",
              "      <td>8</td>\n",
              "      <td>0</td>\n",
              "      <td>1</td>\n",
              "      <td>3</td>\n",
              "      <td>6</td>\n",
              "      <td>...</td>\n",
              "      <td>0</td>\n",
              "      <td>0</td>\n",
              "      <td>0</td>\n",
              "      <td>0</td>\n",
              "      <td>0</td>\n",
              "      <td>0</td>\n",
              "      <td>0</td>\n",
              "      <td>0</td>\n",
              "      <td>0</td>\n",
              "      <td>0</td>\n",
              "    </tr>\n",
              "    <tr>\n",
              "      <th>9</th>\n",
              "      <td>train</td>\n",
              "      <td>11</td>\n",
              "      <td>2</td>\n",
              "      <td>3</td>\n",
              "      <td>3</td>\n",
              "      <td>3</td>\n",
              "      <td>3</td>\n",
              "      <td>5</td>\n",
              "      <td>0</td>\n",
              "      <td>2</td>\n",
              "      <td>...</td>\n",
              "      <td>0</td>\n",
              "      <td>0</td>\n",
              "      <td>0</td>\n",
              "      <td>1</td>\n",
              "      <td>0</td>\n",
              "      <td>0</td>\n",
              "      <td>0</td>\n",
              "      <td>0</td>\n",
              "      <td>0</td>\n",
              "      <td>0</td>\n",
              "    </tr>\n",
              "  </tbody>\n",
              "</table>\n",
              "<p>10 rows × 87 columns</p>\n",
              "</div>\n",
              "    <div class=\"colab-df-buttons\">\n",
              "\n",
              "  <div class=\"colab-df-container\">\n",
              "    <button class=\"colab-df-convert\" onclick=\"convertToInteractive('df-bcd8d253-570a-42ee-9b4e-edf12c7aba63')\"\n",
              "            title=\"Convert this dataframe to an interactive table.\"\n",
              "            style=\"display:none;\">\n",
              "\n",
              "  <svg xmlns=\"http://www.w3.org/2000/svg\" height=\"24px\" viewBox=\"0 -960 960 960\">\n",
              "    <path d=\"M120-120v-720h720v720H120Zm60-500h600v-160H180v160Zm220 220h160v-160H400v160Zm0 220h160v-160H400v160ZM180-400h160v-160H180v160Zm440 0h160v-160H620v160ZM180-180h160v-160H180v160Zm440 0h160v-160H620v160Z\"/>\n",
              "  </svg>\n",
              "    </button>\n",
              "\n",
              "  <style>\n",
              "    .colab-df-container {\n",
              "      display:flex;\n",
              "      gap: 12px;\n",
              "    }\n",
              "\n",
              "    .colab-df-convert {\n",
              "      background-color: #E8F0FE;\n",
              "      border: none;\n",
              "      border-radius: 50%;\n",
              "      cursor: pointer;\n",
              "      display: none;\n",
              "      fill: #1967D2;\n",
              "      height: 32px;\n",
              "      padding: 0 0 0 0;\n",
              "      width: 32px;\n",
              "    }\n",
              "\n",
              "    .colab-df-convert:hover {\n",
              "      background-color: #E2EBFA;\n",
              "      box-shadow: 0px 1px 2px rgba(60, 64, 67, 0.3), 0px 1px 3px 1px rgba(60, 64, 67, 0.15);\n",
              "      fill: #174EA6;\n",
              "    }\n",
              "\n",
              "    .colab-df-buttons div {\n",
              "      margin-bottom: 4px;\n",
              "    }\n",
              "\n",
              "    [theme=dark] .colab-df-convert {\n",
              "      background-color: #3B4455;\n",
              "      fill: #D2E3FC;\n",
              "    }\n",
              "\n",
              "    [theme=dark] .colab-df-convert:hover {\n",
              "      background-color: #434B5C;\n",
              "      box-shadow: 0px 1px 3px 1px rgba(0, 0, 0, 0.15);\n",
              "      filter: drop-shadow(0px 1px 2px rgba(0, 0, 0, 0.3));\n",
              "      fill: #FFFFFF;\n",
              "    }\n",
              "  </style>\n",
              "\n",
              "    <script>\n",
              "      const buttonEl =\n",
              "        document.querySelector('#df-bcd8d253-570a-42ee-9b4e-edf12c7aba63 button.colab-df-convert');\n",
              "      buttonEl.style.display =\n",
              "        google.colab.kernel.accessAllowed ? 'block' : 'none';\n",
              "\n",
              "      async function convertToInteractive(key) {\n",
              "        const element = document.querySelector('#df-bcd8d253-570a-42ee-9b4e-edf12c7aba63');\n",
              "        const dataTable =\n",
              "          await google.colab.kernel.invokeFunction('convertToInteractive',\n",
              "                                                    [key], {});\n",
              "        if (!dataTable) return;\n",
              "\n",
              "        const docLinkHtml = 'Like what you see? Visit the ' +\n",
              "          '<a target=\"_blank\" href=https://colab.research.google.com/notebooks/data_table.ipynb>data table notebook</a>'\n",
              "          + ' to learn more about interactive tables.';\n",
              "        element.innerHTML = '';\n",
              "        dataTable['output_type'] = 'display_data';\n",
              "        await google.colab.output.renderOutput(dataTable, element);\n",
              "        const docLink = document.createElement('div');\n",
              "        docLink.innerHTML = docLinkHtml;\n",
              "        element.appendChild(docLink);\n",
              "      }\n",
              "    </script>\n",
              "  </div>\n",
              "\n",
              "\n",
              "<div id=\"df-9e8df4b2-5af2-4e99-ad72-cc2607d61182\">\n",
              "  <button class=\"colab-df-quickchart\" onclick=\"quickchart('df-9e8df4b2-5af2-4e99-ad72-cc2607d61182')\"\n",
              "            title=\"Suggest charts\"\n",
              "            style=\"display:none;\">\n",
              "\n",
              "<svg xmlns=\"http://www.w3.org/2000/svg\" height=\"24px\"viewBox=\"0 0 24 24\"\n",
              "     width=\"24px\">\n",
              "    <g>\n",
              "        <path d=\"M19 3H5c-1.1 0-2 .9-2 2v14c0 1.1.9 2 2 2h14c1.1 0 2-.9 2-2V5c0-1.1-.9-2-2-2zM9 17H7v-7h2v7zm4 0h-2V7h2v10zm4 0h-2v-4h2v4z\"/>\n",
              "    </g>\n",
              "</svg>\n",
              "  </button>\n",
              "\n",
              "<style>\n",
              "  .colab-df-quickchart {\n",
              "      --bg-color: #E8F0FE;\n",
              "      --fill-color: #1967D2;\n",
              "      --hover-bg-color: #E2EBFA;\n",
              "      --hover-fill-color: #174EA6;\n",
              "      --disabled-fill-color: #AAA;\n",
              "      --disabled-bg-color: #DDD;\n",
              "  }\n",
              "\n",
              "  [theme=dark] .colab-df-quickchart {\n",
              "      --bg-color: #3B4455;\n",
              "      --fill-color: #D2E3FC;\n",
              "      --hover-bg-color: #434B5C;\n",
              "      --hover-fill-color: #FFFFFF;\n",
              "      --disabled-bg-color: #3B4455;\n",
              "      --disabled-fill-color: #666;\n",
              "  }\n",
              "\n",
              "  .colab-df-quickchart {\n",
              "    background-color: var(--bg-color);\n",
              "    border: none;\n",
              "    border-radius: 50%;\n",
              "    cursor: pointer;\n",
              "    display: none;\n",
              "    fill: var(--fill-color);\n",
              "    height: 32px;\n",
              "    padding: 0;\n",
              "    width: 32px;\n",
              "  }\n",
              "\n",
              "  .colab-df-quickchart:hover {\n",
              "    background-color: var(--hover-bg-color);\n",
              "    box-shadow: 0 1px 2px rgba(60, 64, 67, 0.3), 0 1px 3px 1px rgba(60, 64, 67, 0.15);\n",
              "    fill: var(--button-hover-fill-color);\n",
              "  }\n",
              "\n",
              "  .colab-df-quickchart-complete:disabled,\n",
              "  .colab-df-quickchart-complete:disabled:hover {\n",
              "    background-color: var(--disabled-bg-color);\n",
              "    fill: var(--disabled-fill-color);\n",
              "    box-shadow: none;\n",
              "  }\n",
              "\n",
              "  .colab-df-spinner {\n",
              "    border: 2px solid var(--fill-color);\n",
              "    border-color: transparent;\n",
              "    border-bottom-color: var(--fill-color);\n",
              "    animation:\n",
              "      spin 1s steps(1) infinite;\n",
              "  }\n",
              "\n",
              "  @keyframes spin {\n",
              "    0% {\n",
              "      border-color: transparent;\n",
              "      border-bottom-color: var(--fill-color);\n",
              "      border-left-color: var(--fill-color);\n",
              "    }\n",
              "    20% {\n",
              "      border-color: transparent;\n",
              "      border-left-color: var(--fill-color);\n",
              "      border-top-color: var(--fill-color);\n",
              "    }\n",
              "    30% {\n",
              "      border-color: transparent;\n",
              "      border-left-color: var(--fill-color);\n",
              "      border-top-color: var(--fill-color);\n",
              "      border-right-color: var(--fill-color);\n",
              "    }\n",
              "    40% {\n",
              "      border-color: transparent;\n",
              "      border-right-color: var(--fill-color);\n",
              "      border-top-color: var(--fill-color);\n",
              "    }\n",
              "    60% {\n",
              "      border-color: transparent;\n",
              "      border-right-color: var(--fill-color);\n",
              "    }\n",
              "    80% {\n",
              "      border-color: transparent;\n",
              "      border-right-color: var(--fill-color);\n",
              "      border-bottom-color: var(--fill-color);\n",
              "    }\n",
              "    90% {\n",
              "      border-color: transparent;\n",
              "      border-bottom-color: var(--fill-color);\n",
              "    }\n",
              "  }\n",
              "</style>\n",
              "\n",
              "  <script>\n",
              "    async function quickchart(key) {\n",
              "      const quickchartButtonEl =\n",
              "        document.querySelector('#' + key + ' button');\n",
              "      quickchartButtonEl.disabled = true;  // To prevent multiple clicks.\n",
              "      quickchartButtonEl.classList.add('colab-df-spinner');\n",
              "      try {\n",
              "        const charts = await google.colab.kernel.invokeFunction(\n",
              "            'suggestCharts', [key], {});\n",
              "      } catch (error) {\n",
              "        console.error('Error during call to suggestCharts:', error);\n",
              "      }\n",
              "      quickchartButtonEl.classList.remove('colab-df-spinner');\n",
              "      quickchartButtonEl.classList.add('colab-df-quickchart-complete');\n",
              "    }\n",
              "    (() => {\n",
              "      let quickchartButtonEl =\n",
              "        document.querySelector('#df-9e8df4b2-5af2-4e99-ad72-cc2607d61182 button');\n",
              "      quickchartButtonEl.style.display =\n",
              "        google.colab.kernel.accessAllowed ? 'block' : 'none';\n",
              "    })();\n",
              "  </script>\n",
              "</div>\n",
              "    </div>\n",
              "  </div>\n"
            ],
            "application/vnd.google.colaboratory.intrinsic+json": {
              "type": "dataframe",
              "variable_name": "data"
            }
          },
          "metadata": {},
          "execution_count": 2
        }
      ],
      "source": [
        "data.head(10)"
      ]
    },
    {
      "cell_type": "code",
      "execution_count": 3,
      "id": "324e3a7e",
      "metadata": {
        "id": "324e3a7e",
        "outputId": "814a4cf7-9cc2-4e57-fca2-b90944b99894",
        "colab": {
          "base_uri": "https://localhost:8080/"
        }
      },
      "outputs": [
        {
          "output_type": "stream",
          "name": "stdout",
          "text": [
            "<class 'pandas.core.frame.DataFrame'>\n",
            "RangeIndex: 9822 entries, 0 to 9821\n",
            "Data columns (total 87 columns):\n",
            " #   Column    Non-Null Count  Dtype \n",
            "---  ------    --------------  ----- \n",
            " 0   ORIGIN    9822 non-null   object\n",
            " 1   MOSTYPE   9822 non-null   int64 \n",
            " 2   MAANTHUI  9822 non-null   int64 \n",
            " 3   MGEMOMV   9822 non-null   int64 \n",
            " 4   MGEMLEEF  9822 non-null   int64 \n",
            " 5   MOSHOOFD  9822 non-null   int64 \n",
            " 6   MGODRK    9822 non-null   int64 \n",
            " 7   MGODPR    9822 non-null   int64 \n",
            " 8   MGODOV    9822 non-null   int64 \n",
            " 9   MGODGE    9822 non-null   int64 \n",
            " 10  MRELGE    9822 non-null   int64 \n",
            " 11  MRELSA    9822 non-null   int64 \n",
            " 12  MRELOV    9822 non-null   int64 \n",
            " 13  MFALLEEN  9822 non-null   int64 \n",
            " 14  MFGEKIND  9822 non-null   int64 \n",
            " 15  MFWEKIND  9822 non-null   int64 \n",
            " 16  MOPLHOOG  9822 non-null   int64 \n",
            " 17  MOPLMIDD  9822 non-null   int64 \n",
            " 18  MOPLLAAG  9822 non-null   int64 \n",
            " 19  MBERHOOG  9822 non-null   int64 \n",
            " 20  MBERZELF  9822 non-null   int64 \n",
            " 21  MBERBOER  9822 non-null   int64 \n",
            " 22  MBERMIDD  9822 non-null   int64 \n",
            " 23  MBERARBG  9822 non-null   int64 \n",
            " 24  MBERARBO  9822 non-null   int64 \n",
            " 25  MSKA      9822 non-null   int64 \n",
            " 26  MSKB1     9822 non-null   int64 \n",
            " 27  MSKB2     9822 non-null   int64 \n",
            " 28  MSKC      9822 non-null   int64 \n",
            " 29  MSKD      9822 non-null   int64 \n",
            " 30  MHHUUR    9822 non-null   int64 \n",
            " 31  MHKOOP    9822 non-null   int64 \n",
            " 32  MAUT1     9822 non-null   int64 \n",
            " 33  MAUT2     9822 non-null   int64 \n",
            " 34  MAUT0     9822 non-null   int64 \n",
            " 35  MZFONDS   9822 non-null   int64 \n",
            " 36  MZPART    9822 non-null   int64 \n",
            " 37  MINKM30   9822 non-null   int64 \n",
            " 38  MINK3045  9822 non-null   int64 \n",
            " 39  MINK4575  9822 non-null   int64 \n",
            " 40  MINK7512  9822 non-null   int64 \n",
            " 41  MINK123M  9822 non-null   int64 \n",
            " 42  MINKGEM   9822 non-null   int64 \n",
            " 43  MKOOPKLA  9822 non-null   int64 \n",
            " 44  PWAPART   9822 non-null   int64 \n",
            " 45  PWABEDR   9822 non-null   int64 \n",
            " 46  PWALAND   9822 non-null   int64 \n",
            " 47  PPERSAUT  9822 non-null   int64 \n",
            " 48  PBESAUT   9822 non-null   int64 \n",
            " 49  PMOTSCO   9822 non-null   int64 \n",
            " 50  PVRAAUT   9822 non-null   int64 \n",
            " 51  PAANHANG  9822 non-null   int64 \n",
            " 52  PTRACTOR  9822 non-null   int64 \n",
            " 53  PWERKT    9822 non-null   int64 \n",
            " 54  PBROM     9822 non-null   int64 \n",
            " 55  PLEVEN    9822 non-null   int64 \n",
            " 56  PPERSONG  9822 non-null   int64 \n",
            " 57  PGEZONG   9822 non-null   int64 \n",
            " 58  PWAOREG   9822 non-null   int64 \n",
            " 59  PBRAND    9822 non-null   int64 \n",
            " 60  PZEILPL   9822 non-null   int64 \n",
            " 61  PPLEZIER  9822 non-null   int64 \n",
            " 62  PFIETS    9822 non-null   int64 \n",
            " 63  PINBOED   9822 non-null   int64 \n",
            " 64  PBYSTAND  9822 non-null   int64 \n",
            " 65  AWAPART   9822 non-null   int64 \n",
            " 66  AWABEDR   9822 non-null   int64 \n",
            " 67  AWALAND   9822 non-null   int64 \n",
            " 68  APERSAUT  9822 non-null   int64 \n",
            " 69  ABESAUT   9822 non-null   int64 \n",
            " 70  AMOTSCO   9822 non-null   int64 \n",
            " 71  AVRAAUT   9822 non-null   int64 \n",
            " 72  AAANHANG  9822 non-null   int64 \n",
            " 73  ATRACTOR  9822 non-null   int64 \n",
            " 74  AWERKT    9822 non-null   int64 \n",
            " 75  ABROM     9822 non-null   int64 \n",
            " 76  ALEVEN    9822 non-null   int64 \n",
            " 77  APERSONG  9822 non-null   int64 \n",
            " 78  AGEZONG   9822 non-null   int64 \n",
            " 79  AWAOREG   9822 non-null   int64 \n",
            " 80  ABRAND    9822 non-null   int64 \n",
            " 81  AZEILPL   9822 non-null   int64 \n",
            " 82  APLEZIER  9822 non-null   int64 \n",
            " 83  AFIETS    9822 non-null   int64 \n",
            " 84  AINBOED   9822 non-null   int64 \n",
            " 85  ABYSTAND  9822 non-null   int64 \n",
            " 86  CARAVAN   9822 non-null   int64 \n",
            "dtypes: int64(86), object(1)\n",
            "memory usage: 6.5+ MB\n"
          ]
        }
      ],
      "source": [
        "data.shape\n",
        "data.info()"
      ]
    },
    {
      "cell_type": "code",
      "execution_count": 4,
      "id": "7896ad57",
      "metadata": {
        "id": "7896ad57"
      },
      "outputs": [],
      "source": [
        "train_data = data[data.iloc[:, 0] == 'train']\n",
        "test_data = data[data.iloc[:, 0] == 'test']\n",
        "\n",
        "X_train = train_data.iloc[:, 1:-1]\n",
        "y_train = train_data.iloc[:, -1]\n",
        "\n",
        "X_test = test_data.iloc[:, 1:-1]\n",
        "y_test = test_data.iloc[:, -1]"
      ]
    },
    {
      "cell_type": "code",
      "execution_count": 5,
      "id": "d983da22",
      "metadata": {
        "id": "d983da22"
      },
      "outputs": [],
      "source": [
        "#Scaling\n",
        "from sklearn.preprocessing import StandardScaler\n",
        "scaler = StandardScaler()\n",
        "X_train = scaler.fit_transform(X_train)\n",
        "X_test = scaler.transform(X_test)"
      ]
    },
    {
      "cell_type": "markdown",
      "id": "fb5d9903",
      "metadata": {
        "id": "fb5d9903"
      },
      "source": [
        "# Random Forest Classifier"
      ]
    },
    {
      "cell_type": "code",
      "execution_count": 6,
      "id": "0f24a02b",
      "metadata": {
        "id": "0f24a02b"
      },
      "outputs": [],
      "source": [
        "from sklearn.ensemble import RandomForestClassifier\n",
        "\n",
        "rf = RandomForestClassifier(n_estimators=100)\n",
        "rf.fit(X_train, y_train)\n",
        "y_pred_1 = rf.predict(X_test)"
      ]
    },
    {
      "cell_type": "code",
      "execution_count": 7,
      "id": "c317d1a3",
      "metadata": {
        "id": "c317d1a3",
        "outputId": "2af797e9-f1d2-44fc-fd48-1b010fa1ac5d",
        "colab": {
          "base_uri": "https://localhost:8080/",
          "height": 452
        }
      },
      "outputs": [
        {
          "output_type": "display_data",
          "data": {
            "text/plain": [
              "<Figure size 640x480 with 2 Axes>"
            ],
            "image/png": "[encoded data removed]"
          },
          "metadata": {}
        }
      ],
      "source": [
        "from sklearn.metrics import *\n",
        "plt.title('Random Forest Classifier Confusion Matrix')\n",
        "sns.heatmap(confusion_matrix(y_test, y_pred_1), annot=True, fmt='g')\n",
        "plt.show()"
      ]
    },
    {
      "cell_type": "code",
      "execution_count": 8,
      "id": "30b861a5",
      "metadata": {
        "id": "30b861a5",
        "outputId": "2073f031-eb1d-435f-9916-a9ad73d446ed",
        "colab": {
          "base_uri": "https://localhost:8080/"
        }
      },
      "outputs": [
        {
          "output_type": "stream",
          "name": "stdout",
          "text": [
            "Accuracy is:  93.325\n"
          ]
        }
      ],
      "source": [
        "accuracy_1 = accuracy_score(y_test, y_pred_1)*100\n",
        "print(\"Accuracy is: \", accuracy_1)"
      ]
    },
    {
      "cell_type": "markdown",
      "id": "be87a43d",
      "metadata": {
        "id": "be87a43d"
      },
      "source": [
        "# Decision Tree Classifier"
      ]
    },
    {
      "cell_type": "code",
      "execution_count": 9,
      "id": "4b0e4894",
      "metadata": {
        "id": "4b0e4894"
      },
      "outputs": [],
      "source": [
        "from sklearn.tree import DecisionTreeClassifier\n",
        "\n",
        "df = DecisionTreeClassifier(criterion='gini', random_state=100, max_depth=3, min_samples_leaf=5)\n",
        "df.fit(X_train, y_train)\n",
        "y_pred_2 = df.predict(X_test)"
      ]
    },
    {
      "cell_type": "code",
      "execution_count": 10,
      "id": "05970cec",
      "metadata": {
        "id": "05970cec",
        "outputId": "c8f91f25-5adf-45d7-d307-48ebaf1721e5",
        "colab": {
          "base_uri": "https://localhost:8080/",
          "height": 452
        }
      },
      "outputs": [
        {
          "output_type": "display_data",
          "data": {
            "text/plain": [
              "<Figure size 640x480 with 2 Axes>"
            ],
            "image/png": "[encoded data removed]"
          },
          "metadata": {}
        }
      ],
      "source": [
        "plt.title('Decision Tree Classifier Confusion Matrix')\n",
        "sns.heatmap(confusion_matrix(y_test, y_pred_2), annot=True, fmt='g')\n",
        "plt.show()"
      ]
    },
    {
      "cell_type": "code",
      "execution_count": 11,
      "id": "0b896fc0",
      "metadata": {
        "id": "0b896fc0",
        "outputId": "8d4f075e-f287-46d7-947e-d013e0c7cd08",
        "colab": {
          "base_uri": "https://localhost:8080/"
        }
      },
      "outputs": [
        {
          "output_type": "stream",
          "name": "stdout",
          "text": [
            "Accuracy is:  93.925\n"
          ]
        }
      ],
      "source": [
        "accuracy_2 = accuracy_score(y_test, y_pred_2)*100\n",
        "print(\"Accuracy is: \", accuracy_2)"
      ]
    },
    {
      "cell_type": "markdown",
      "id": "13c1dd53",
      "metadata": {
        "id": "13c1dd53"
      },
      "source": [
        "# KNN Classifier"
      ]
    },
    {
      "cell_type": "code",
      "execution_count": 12,
      "id": "d9181f4f",
      "metadata": {
        "id": "d9181f4f"
      },
      "outputs": [],
      "source": [
        "from sklearn.neighbors import KNeighborsClassifier\n",
        "\n",
        "knn = KNeighborsClassifier(n_neighbors=6)\n",
        "knn.fit(X_train, y_train)\n",
        "y_pred_3 = knn.predict(X_test)"
      ]
    },
    {
      "cell_type": "code",
      "execution_count": 13,
      "id": "648e4350",
      "metadata": {
        "id": "648e4350",
        "outputId": "34a9dfaa-5bcf-4447-e9f9-421d02cf6f16",
        "colab": {
          "base_uri": "https://localhost:8080/",
          "height": 452
        }
      },
      "outputs": [
        {
          "output_type": "display_data",
          "data": {
            "text/plain": [
              "<Figure size 640x480 with 2 Axes>"
            ],
            "image/png": "[encoded data removed]"
          },
          "metadata": {}
        }
      ],
      "source": [
        "plt.title(\"KNN Confusion Matrix\")\n",
        "sns.heatmap(confusion_matrix(y_test, y_pred_3), annot=True, fmt='g')\n",
        "plt.show()"
      ]
    },
    {
      "cell_type": "code",
      "execution_count": 14,
      "id": "63a3bb41",
      "metadata": {
        "id": "63a3bb41",
        "outputId": "92172966-2aeb-422a-c101-7ce60cbd7b53",
        "colab": {
          "base_uri": "https://localhost:8080/"
        }
      },
      "outputs": [
        {
          "output_type": "stream",
          "name": "stdout",
          "text": [
            "Accuracy is:  94.05\n"
          ]
        }
      ],
      "source": [
        "accuracy_3 = accuracy_score(y_test, y_pred_3)*100\n",
        "print(\"Accuracy is: \", accuracy_3)"
      ]
    },
    {
      "cell_type": "markdown",
      "id": "528deba3",
      "metadata": {
        "id": "528deba3"
      },
      "source": [
        "# Logistic Regression"
      ]
    },
    {
      "cell_type": "code",
      "execution_count": 24,
      "id": "6a0f3b8a",
      "metadata": {
        "id": "6a0f3b8a"
      },
      "outputs": [],
      "source": [
        "from sklearn.linear_model import LogisticRegression\n",
        "\n",
        "logr = LogisticRegression(max_iter=10000)\n",
        "logr.fit(X_train, y_train)\n",
        "y_pred_4 = logr.predict(X_test)"
      ]
    },
    {
      "cell_type": "code",
      "execution_count": 16,
      "id": "2f6c69f2",
      "metadata": {
        "id": "2f6c69f2",
        "outputId": "694e4f15-9a95-4647-c53d-362b24368b33",
        "colab": {
          "base_uri": "https://localhost:8080/",
          "height": 452
        }
      },
      "outputs": [
        {
          "output_type": "display_data",
          "data": {
            "text/plain": [
              "<Figure size 640x480 with 2 Axes>"
            ],
            "image/png": "[encoded data removed]"
          },
          "metadata": {}
        }
      ],
      "source": [
        "plt.title('Logistic Rregression Confusion Matrix')\n",
        "sns.heatmap(confusion_matrix(y_test, y_pred_4), annot=True, fmt='g')\n",
        "plt.show()"
      ]
    },
    {
      "cell_type": "code",
      "execution_count": 17,
      "id": "a91c9101",
      "metadata": {
        "id": "a91c9101",
        "outputId": "4413e222-234e-4896-b22c-a56d28b4581a",
        "colab": {
          "base_uri": "https://localhost:8080/"
        }
      },
      "outputs": [
        {
          "output_type": "stream",
          "name": "stdout",
          "text": [
            "Accuracy is:  94.0\n"
          ]
        }
      ],
      "source": [
        "accuracy_4 = accuracy_score(y_test, y_pred_4)*100\n",
        "print(\"Accuracy is: \", accuracy_4)"
      ]
    },
    {
      "cell_type": "markdown",
      "source": [
        "# Naive Bayes\n"
      ],
      "metadata": {
        "id": "XR6KZwbEgFF_"
      },
      "id": "XR6KZwbEgFF_"
    },
    {
      "cell_type": "code",
      "execution_count": 18,
      "id": "430869ad",
      "metadata": {
        "id": "430869ad",
        "outputId": "8c72656c-6e3a-42c6-a18c-b2892e4cf3a3",
        "colab": {
          "base_uri": "https://localhost:8080/"
        }
      },
      "outputs": [
        {
          "output_type": "stream",
          "name": "stdout",
          "text": [
            "              precision    recall  f1-score   support\n",
            "\n",
            "           0       0.99      0.07      0.14      3762\n",
            "           1       0.06      0.98      0.12       238\n",
            "\n",
            "    accuracy                           0.13      4000\n",
            "   macro avg       0.52      0.53      0.13      4000\n",
            "weighted avg       0.93      0.13      0.14      4000\n",
            "\n"
          ]
        }
      ],
      "source": [
        "from sklearn.naive_bayes import GaussianNB\n",
        "\n",
        "gnb = GaussianNB()\n",
        "gnb.fit(X_train, y_train)\n",
        "y_pred_5 = gnb.predict(X_test)\n",
        "print(classification_report(y_test, y_pred_5))"
      ]
    },
    {
      "cell_type": "code",
      "source": [
        "plt.title('Naive Bayes Confusion Matrix')\n",
        "sns.heatmap(confusion_matrix(y_test, y_pred_5), annot=True, fmt='g')\n",
        "plt.show()"
      ],
      "metadata": {
        "id": "D53HVzNVG9tI",
        "outputId": "6e4fdd34-febd-4ff7-efa1-11ee9e4065a6",
        "colab": {
          "base_uri": "https://localhost:8080/",
          "height": 452
        }
      },
      "id": "D53HVzNVG9tI",
      "execution_count": 19,
      "outputs": [
        {
          "output_type": "display_data",
          "data": {
            "text/plain": [
              "<Figure size 640x480 with 2 Axes>"
            ],
            "image/png": "[encoded data removed]"
          },
          "metadata": {}
        }
      ]
    },
    {
      "cell_type": "code",
      "source": [
        "accuracy_5 = accuracy_score(y_test, y_pred_5)*100\n",
        "print(\"Accuracy is: \", accuracy_5)"
      ],
      "metadata": {
        "id": "E4wRhV1AHEqd",
        "outputId": "a4375e7f-8aa6-4694-9834-a8646d8eed94",
        "colab": {
          "base_uri": "https://localhost:8080/"
        }
      },
      "id": "E4wRhV1AHEqd",
      "execution_count": 20,
      "outputs": [
        {
          "output_type": "stream",
          "name": "stdout",
          "text": [
            "Accuracy is:  12.9\n"
          ]
        }
      ]
    },
    {
      "cell_type": "markdown",
      "source": [
        "# SVM\n"
      ],
      "metadata": {
        "id": "C9uXl1Sdh_CY"
      },
      "id": "C9uXl1Sdh_CY"
    },
    {
      "cell_type": "code",
      "source": [
        "from sklearn import svm\n",
        "\n",
        "sv = svm.SVC(kernel='linear', C=1)\n",
        "sv.fit(X_train, y_train)\n",
        "y_pred_6 = sv.predict(X_test)"
      ],
      "metadata": {
        "id": "ZXxK_upaHj5L"
      },
      "id": "ZXxK_upaHj5L",
      "execution_count": 21,
      "outputs": []
    },
    {
      "cell_type": "code",
      "source": [
        "plt.title('SVM Confusion Matrix')\n",
        "sns.heatmap(confusion_matrix(y_test, y_pred_6), annot=True, fmt='g')\n",
        "plt.show()"
      ],
      "metadata": {
        "id": "FgM3-ecnja1m",
        "outputId": "2b48d015-da10-49df-e713-4ebdb0cb5995",
        "colab": {
          "base_uri": "https://localhost:8080/",
          "height": 452
        }
      },
      "id": "FgM3-ecnja1m",
      "execution_count": 22,
      "outputs": [
        {
          "output_type": "display_data",
          "data": {
            "text/plain": [
              "<Figure size 640x480 with 2 Axes>"
            ],
            "image/png": "[encoded data removed]"
          },
          "metadata": {}
        }
      ]
    },
    {
      "cell_type": "code",
      "source": [
        "accuracy_6 = accuracy_score(y_test, y_pred_6)*100\n",
        "print(\"Accuracy is: \", accuracy_6)"
      ],
      "metadata": {
        "id": "UGFj9Ieui6JI",
        "outputId": "0fc998b5-abdc-44f4-a78c-7288543b9e1b",
        "colab": {
          "base_uri": "https://localhost:8080/"
        }
      },
      "id": "UGFj9Ieui6JI",
      "execution_count": 23,
      "outputs": [
        {
          "output_type": "stream",
          "name": "stdout",
          "text": [
            "Accuracy is:  94.05\n"
          ]
        }
      ]
    },
    {
      "cell_type": "code",
      "source": [],
      "metadata": {
        "id": "CiIUEmiGjKmC"
      },
      "id": "CiIUEmiGjKmC",
      "execution_count": 23,
      "outputs": []
    },
    {
      "cell_type": "code",
      "source": [],
      "metadata": {
        "id": "VeK-WCO2kQoI"
      },
      "id": "VeK-WCO2kQoI",
      "execution_count": 23,
      "outputs": []
    }
  ],
  "metadata": {
    "kernelspec": {
      "display_name": "Python 3 (ipykernel)",
      "language": "python",
      "name": "python3"
    },
    "language_info": {
      "codemirror_mode": {
        "name": "ipython",
        "version": 3
      },
      "file_extension": ".py",
      "mimetype": "text/x-python",
      "name": "python",
      "nbconvert_exporter": "python",
      "pygments_lexer": "ipython3",
      "version": "3.10.9"
    },
    "colab": {
      "provenance": []
    }
  },
  "nbformat": 4,
  "nbformat_minor": 5
}