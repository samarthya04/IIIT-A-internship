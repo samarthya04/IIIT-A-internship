{
 "cells": [
  {
   "cell_type": "code",
   "execution_count": 1,
   "id": "bd4f1c43",
   "metadata": {},
   "outputs": [],
   "source": [
    "import numpy as np\n",
    "import pandas as pd\n",
    "import seaborn as sns\n",
    "import matplotlib.pyplot as plt\n",
    "\n",
    "data = pd.read_csv('caravan-insurance-challenge.csv')"
   ]
  },
  {
   "cell_type": "code",
   "execution_count": 2,
   "id": "56adeaba",
   "metadata": {},
   "outputs": [
    {
     "data": {
      "text/html": [
       "<div>\n",
       "<style scoped>\n",
       "    .dataframe tbody tr th:only-of-type {\n",
       "        vertical-align: middle;\n",
       "    }\n",
       "\n",
       "    .dataframe tbody tr th {\n",
       "        vertical-align: top;\n",
       "    }\n",
       "\n",
       "    .dataframe thead th {\n",
       "        text-align: right;\n",
       "    }\n",
       "</style>\n",
       "<table border=\"1\" class=\"dataframe\">\n",
       "  <thead>\n",
       "    <tr style=\"text-align: right;\">\n",
       "      <th></th>\n",
       "      <th>ORIGIN</th>\n",
       "      <th>MOSTYPE</th>\n",
       "      <th>MAANTHUI</th>\n",
       "      <th>MGEMOMV</th>\n",
       "      <th>MGEMLEEF</th>\n",
       "      <th>MOSHOOFD</th>\n",
       "      <th>MGODRK</th>\n",
       "      <th>MGODPR</th>\n",
       "      <th>MGODOV</th>\n",
       "      <th>MGODGE</th>\n",
       "      <th>...</th>\n",
       "      <th>APERSONG</th>\n",
       "      <th>AGEZONG</th>\n",
       "      <th>AWAOREG</th>\n",
       "      <th>ABRAND</th>\n",
       "      <th>AZEILPL</th>\n",
       "      <th>APLEZIER</th>\n",
       "      <th>AFIETS</th>\n",
       "      <th>AINBOED</th>\n",
       "      <th>ABYSTAND</th>\n",
       "      <th>CARAVAN</th>\n",
       "    </tr>\n",
       "  </thead>\n",
       "  <tbody>\n",
       "    <tr>\n",
       "      <th>0</th>\n",
       "      <td>train</td>\n",
       "      <td>33</td>\n",
       "      <td>1</td>\n",
       "      <td>3</td>\n",
       "      <td>2</td>\n",
       "      <td>8</td>\n",
       "      <td>0</td>\n",
       "      <td>5</td>\n",
       "      <td>1</td>\n",
       "      <td>3</td>\n",
       "      <td>...</td>\n",
       "      <td>0</td>\n",
       "      <td>0</td>\n",
       "      <td>0</td>\n",
       "      <td>1</td>\n",
       "      <td>0</td>\n",
       "      <td>0</td>\n",
       "      <td>0</td>\n",
       "      <td>0</td>\n",
       "      <td>0</td>\n",
       "      <td>0</td>\n",
       "    </tr>\n",
       "    <tr>\n",
       "      <th>1</th>\n",
       "      <td>train</td>\n",
       "      <td>37</td>\n",
       "      <td>1</td>\n",
       "      <td>2</td>\n",
       "      <td>2</td>\n",
       "      <td>8</td>\n",
       "      <td>1</td>\n",
       "      <td>4</td>\n",
       "      <td>1</td>\n",
       "      <td>4</td>\n",
       "      <td>...</td>\n",
       "      <td>0</td>\n",
       "      <td>0</td>\n",
       "      <td>0</td>\n",
       "      <td>1</td>\n",
       "      <td>0</td>\n",
       "      <td>0</td>\n",
       "      <td>0</td>\n",
       "      <td>0</td>\n",
       "      <td>0</td>\n",
       "      <td>0</td>\n",
       "    </tr>\n",
       "    <tr>\n",
       "      <th>2</th>\n",
       "      <td>train</td>\n",
       "      <td>37</td>\n",
       "      <td>1</td>\n",
       "      <td>2</td>\n",
       "      <td>2</td>\n",
       "      <td>8</td>\n",
       "      <td>0</td>\n",
       "      <td>4</td>\n",
       "      <td>2</td>\n",
       "      <td>4</td>\n",
       "      <td>...</td>\n",
       "      <td>0</td>\n",
       "      <td>0</td>\n",
       "      <td>0</td>\n",
       "      <td>1</td>\n",
       "      <td>0</td>\n",
       "      <td>0</td>\n",
       "      <td>0</td>\n",
       "      <td>0</td>\n",
       "      <td>0</td>\n",
       "      <td>0</td>\n",
       "    </tr>\n",
       "    <tr>\n",
       "      <th>3</th>\n",
       "      <td>train</td>\n",
       "      <td>9</td>\n",
       "      <td>1</td>\n",
       "      <td>3</td>\n",
       "      <td>3</td>\n",
       "      <td>3</td>\n",
       "      <td>2</td>\n",
       "      <td>3</td>\n",
       "      <td>2</td>\n",
       "      <td>4</td>\n",
       "      <td>...</td>\n",
       "      <td>0</td>\n",
       "      <td>0</td>\n",
       "      <td>0</td>\n",
       "      <td>1</td>\n",
       "      <td>0</td>\n",
       "      <td>0</td>\n",
       "      <td>0</td>\n",
       "      <td>0</td>\n",
       "      <td>0</td>\n",
       "      <td>0</td>\n",
       "    </tr>\n",
       "    <tr>\n",
       "      <th>4</th>\n",
       "      <td>train</td>\n",
       "      <td>40</td>\n",
       "      <td>1</td>\n",
       "      <td>4</td>\n",
       "      <td>2</td>\n",
       "      <td>10</td>\n",
       "      <td>1</td>\n",
       "      <td>4</td>\n",
       "      <td>1</td>\n",
       "      <td>4</td>\n",
       "      <td>...</td>\n",
       "      <td>0</td>\n",
       "      <td>0</td>\n",
       "      <td>0</td>\n",
       "      <td>1</td>\n",
       "      <td>0</td>\n",
       "      <td>0</td>\n",
       "      <td>0</td>\n",
       "      <td>0</td>\n",
       "      <td>0</td>\n",
       "      <td>0</td>\n",
       "    </tr>\n",
       "    <tr>\n",
       "      <th>5</th>\n",
       "      <td>train</td>\n",
       "      <td>23</td>\n",
       "      <td>1</td>\n",
       "      <td>2</td>\n",
       "      <td>1</td>\n",
       "      <td>5</td>\n",
       "      <td>0</td>\n",
       "      <td>5</td>\n",
       "      <td>0</td>\n",
       "      <td>5</td>\n",
       "      <td>...</td>\n",
       "      <td>0</td>\n",
       "      <td>0</td>\n",
       "      <td>0</td>\n",
       "      <td>0</td>\n",
       "      <td>0</td>\n",
       "      <td>0</td>\n",
       "      <td>0</td>\n",
       "      <td>0</td>\n",
       "      <td>0</td>\n",
       "      <td>0</td>\n",
       "    </tr>\n",
       "    <tr>\n",
       "      <th>6</th>\n",
       "      <td>train</td>\n",
       "      <td>39</td>\n",
       "      <td>2</td>\n",
       "      <td>3</td>\n",
       "      <td>2</td>\n",
       "      <td>9</td>\n",
       "      <td>2</td>\n",
       "      <td>2</td>\n",
       "      <td>0</td>\n",
       "      <td>5</td>\n",
       "      <td>...</td>\n",
       "      <td>0</td>\n",
       "      <td>0</td>\n",
       "      <td>0</td>\n",
       "      <td>0</td>\n",
       "      <td>0</td>\n",
       "      <td>0</td>\n",
       "      <td>0</td>\n",
       "      <td>0</td>\n",
       "      <td>0</td>\n",
       "      <td>0</td>\n",
       "    </tr>\n",
       "    <tr>\n",
       "      <th>7</th>\n",
       "      <td>train</td>\n",
       "      <td>33</td>\n",
       "      <td>1</td>\n",
       "      <td>2</td>\n",
       "      <td>3</td>\n",
       "      <td>8</td>\n",
       "      <td>0</td>\n",
       "      <td>7</td>\n",
       "      <td>0</td>\n",
       "      <td>2</td>\n",
       "      <td>...</td>\n",
       "      <td>0</td>\n",
       "      <td>0</td>\n",
       "      <td>0</td>\n",
       "      <td>0</td>\n",
       "      <td>0</td>\n",
       "      <td>0</td>\n",
       "      <td>0</td>\n",
       "      <td>0</td>\n",
       "      <td>0</td>\n",
       "      <td>0</td>\n",
       "    </tr>\n",
       "    <tr>\n",
       "      <th>8</th>\n",
       "      <td>train</td>\n",
       "      <td>33</td>\n",
       "      <td>1</td>\n",
       "      <td>2</td>\n",
       "      <td>4</td>\n",
       "      <td>8</td>\n",
       "      <td>0</td>\n",
       "      <td>1</td>\n",
       "      <td>3</td>\n",
       "      <td>6</td>\n",
       "      <td>...</td>\n",
       "      <td>0</td>\n",
       "      <td>0</td>\n",
       "      <td>0</td>\n",
       "      <td>0</td>\n",
       "      <td>0</td>\n",
       "      <td>0</td>\n",
       "      <td>0</td>\n",
       "      <td>0</td>\n",
       "      <td>0</td>\n",
       "      <td>0</td>\n",
       "    </tr>\n",
       "    <tr>\n",
       "      <th>9</th>\n",
       "      <td>train</td>\n",
       "      <td>11</td>\n",
       "      <td>2</td>\n",
       "      <td>3</td>\n",
       "      <td>3</td>\n",
       "      <td>3</td>\n",
       "      <td>3</td>\n",
       "      <td>5</td>\n",
       "      <td>0</td>\n",
       "      <td>2</td>\n",
       "      <td>...</td>\n",
       "      <td>0</td>\n",
       "      <td>0</td>\n",
       "      <td>0</td>\n",
       "      <td>1</td>\n",
       "      <td>0</td>\n",
       "      <td>0</td>\n",
       "      <td>0</td>\n",
       "      <td>0</td>\n",
       "      <td>0</td>\n",
       "      <td>0</td>\n",
       "    </tr>\n",
       "  </tbody>\n",
       "</table>\n",
       "<p>10 rows × 87 columns</p>\n",
       "</div>"
      ],
      "text/plain": [
       "  ORIGIN  MOSTYPE  MAANTHUI  MGEMOMV  MGEMLEEF  MOSHOOFD  MGODRK  MGODPR  \\\n",
       "0  train       33         1        3         2         8       0       5   \n",
       "1  train       37         1        2         2         8       1       4   \n",
       "2  train       37         1        2         2         8       0       4   \n",
       "3  train        9         1        3         3         3       2       3   \n",
       "4  train       40         1        4         2        10       1       4   \n",
       "5  train       23         1        2         1         5       0       5   \n",
       "6  train       39         2        3         2         9       2       2   \n",
       "7  train       33         1        2         3         8       0       7   \n",
       "8  train       33         1        2         4         8       0       1   \n",
       "9  train       11         2        3         3         3       3       5   \n",
       "\n",
       "   MGODOV  MGODGE  ...  APERSONG  AGEZONG  AWAOREG  ABRAND  AZEILPL  APLEZIER  \\\n",
       "0       1       3  ...         0        0        0       1        0         0   \n",
       "1       1       4  ...         0        0        0       1        0         0   \n",
       "2       2       4  ...         0        0        0       1        0         0   \n",
       "3       2       4  ...         0        0        0       1        0         0   \n",
       "4       1       4  ...         0        0        0       1        0         0   \n",
       "5       0       5  ...         0        0        0       0        0         0   \n",
       "6       0       5  ...         0        0        0       0        0         0   \n",
       "7       0       2  ...         0        0        0       0        0         0   \n",
       "8       3       6  ...         0        0        0       0        0         0   \n",
       "9       0       2  ...         0        0        0       1        0         0   \n",
       "\n",
       "   AFIETS  AINBOED  ABYSTAND  CARAVAN  \n",
       "0       0        0         0        0  \n",
       "1       0        0         0        0  \n",
       "2       0        0         0        0  \n",
       "3       0        0         0        0  \n",
       "4       0        0         0        0  \n",
       "5       0        0         0        0  \n",
       "6       0        0         0        0  \n",
       "7       0        0         0        0  \n",
       "8       0        0         0        0  \n",
       "9       0        0         0        0  \n",
       "\n",
       "[10 rows x 87 columns]"
      ]
     },
     "execution_count": 2,
     "metadata": {},
     "output_type": "execute_result"
    }
   ],
   "source": [
    "data.head(10)"
   ]
  },
  {
   "cell_type": "code",
   "execution_count": 33,
   "id": "324e3a7e",
   "metadata": {},
   "outputs": [
    {
     "name": "stdout",
     "output_type": "stream",
     "text": [
      "<class 'pandas.core.frame.DataFrame'>\n",
      "RangeIndex: 9822 entries, 0 to 9821\n",
      "Data columns (total 87 columns):\n",
      " #   Column    Non-Null Count  Dtype \n",
      "---  ------    --------------  ----- \n",
      " 0   ORIGIN    9822 non-null   object\n",
      " 1   MOSTYPE   9822 non-null   int64 \n",
      " 2   MAANTHUI  9822 non-null   int64 \n",
      " 3   MGEMOMV   9822 non-null   int64 \n",
      " 4   MGEMLEEF  9822 non-null   int64 \n",
      " 5   MOSHOOFD  9822 non-null   int64 \n",
      " 6   MGODRK    9822 non-null   int64 \n",
      " 7   MGODPR    9822 non-null   int64 \n",
      " 8   MGODOV    9822 non-null   int64 \n",
      " 9   MGODGE    9822 non-null   int64 \n",
      " 10  MRELGE    9822 non-null   int64 \n",
      " 11  MRELSA    9822 non-null   int64 \n",
      " 12  MRELOV    9822 non-null   int64 \n",
      " 13  MFALLEEN  9822 non-null   int64 \n",
      " 14  MFGEKIND  9822 non-null   int64 \n",
      " 15  MFWEKIND  9822 non-null   int64 \n",
      " 16  MOPLHOOG  9822 non-null   int64 \n",
      " 17  MOPLMIDD  9822 non-null   int64 \n",
      " 18  MOPLLAAG  9822 non-null   int64 \n",
      " 19  MBERHOOG  9822 non-null   int64 \n",
      " 20  MBERZELF  9822 non-null   int64 \n",
      " 21  MBERBOER  9822 non-null   int64 \n",
      " 22  MBERMIDD  9822 non-null   int64 \n",
      " 23  MBERARBG  9822 non-null   int64 \n",
      " 24  MBERARBO  9822 non-null   int64 \n",
      " 25  MSKA      9822 non-null   int64 \n",
      " 26  MSKB1     9822 non-null   int64 \n",
      " 27  MSKB2     9822 non-null   int64 \n",
      " 28  MSKC      9822 non-null   int64 \n",
      " 29  MSKD      9822 non-null   int64 \n",
      " 30  MHHUUR    9822 non-null   int64 \n",
      " 31  MHKOOP    9822 non-null   int64 \n",
      " 32  MAUT1     9822 non-null   int64 \n",
      " 33  MAUT2     9822 non-null   int64 \n",
      " 34  MAUT0     9822 non-null   int64 \n",
      " 35  MZFONDS   9822 non-null   int64 \n",
      " 36  MZPART    9822 non-null   int64 \n",
      " 37  MINKM30   9822 non-null   int64 \n",
      " 38  MINK3045  9822 non-null   int64 \n",
      " 39  MINK4575  9822 non-null   int64 \n",
      " 40  MINK7512  9822 non-null   int64 \n",
      " 41  MINK123M  9822 non-null   int64 \n",
      " 42  MINKGEM   9822 non-null   int64 \n",
      " 43  MKOOPKLA  9822 non-null   int64 \n",
      " 44  PWAPART   9822 non-null   int64 \n",
      " 45  PWABEDR   9822 non-null   int64 \n",
      " 46  PWALAND   9822 non-null   int64 \n",
      " 47  PPERSAUT  9822 non-null   int64 \n",
      " 48  PBESAUT   9822 non-null   int64 \n",
      " 49  PMOTSCO   9822 non-null   int64 \n",
      " 50  PVRAAUT   9822 non-null   int64 \n",
      " 51  PAANHANG  9822 non-null   int64 \n",
      " 52  PTRACTOR  9822 non-null   int64 \n",
      " 53  PWERKT    9822 non-null   int64 \n",
      " 54  PBROM     9822 non-null   int64 \n",
      " 55  PLEVEN    9822 non-null   int64 \n",
      " 56  PPERSONG  9822 non-null   int64 \n",
      " 57  PGEZONG   9822 non-null   int64 \n",
      " 58  PWAOREG   9822 non-null   int64 \n",
      " 59  PBRAND    9822 non-null   int64 \n",
      " 60  PZEILPL   9822 non-null   int64 \n",
      " 61  PPLEZIER  9822 non-null   int64 \n",
      " 62  PFIETS    9822 non-null   int64 \n",
      " 63  PINBOED   9822 non-null   int64 \n",
      " 64  PBYSTAND  9822 non-null   int64 \n",
      " 65  AWAPART   9822 non-null   int64 \n",
      " 66  AWABEDR   9822 non-null   int64 \n",
      " 67  AWALAND   9822 non-null   int64 \n",
      " 68  APERSAUT  9822 non-null   int64 \n",
      " 69  ABESAUT   9822 non-null   int64 \n",
      " 70  AMOTSCO   9822 non-null   int64 \n",
      " 71  AVRAAUT   9822 non-null   int64 \n",
      " 72  AAANHANG  9822 non-null   int64 \n",
      " 73  ATRACTOR  9822 non-null   int64 \n",
      " 74  AWERKT    9822 non-null   int64 \n",
      " 75  ABROM     9822 non-null   int64 \n",
      " 76  ALEVEN    9822 non-null   int64 \n",
      " 77  APERSONG  9822 non-null   int64 \n",
      " 78  AGEZONG   9822 non-null   int64 \n",
      " 79  AWAOREG   9822 non-null   int64 \n",
      " 80  ABRAND    9822 non-null   int64 \n",
      " 81  AZEILPL   9822 non-null   int64 \n",
      " 82  APLEZIER  9822 non-null   int64 \n",
      " 83  AFIETS    9822 non-null   int64 \n",
      " 84  AINBOED   9822 non-null   int64 \n",
      " 85  ABYSTAND  9822 non-null   int64 \n",
      " 86  CARAVAN   9822 non-null   int64 \n",
      "dtypes: int64(86), object(1)\n",
      "memory usage: 6.5+ MB\n"
     ]
    }
   ],
   "source": [
    "data.shape\n",
    "data.info()"
   ]
  },
  {
   "cell_type": "code",
   "execution_count": 3,
   "id": "7896ad57",
   "metadata": {},
   "outputs": [],
   "source": [
    "train_data = data[data.iloc[:, 0] == 'train']\n",
    "test_data = data[data.iloc[:, 0] == 'test']\n",
    "\n",
    "X_train = train_data.iloc[:, 1:-1]\n",
    "y_train = train_data.iloc[:, -1]\n",
    "\n",
    "X_test = test_data.iloc[:, 1:-1]\n",
    "y_test = test_data.iloc[:, -1]"
   ]
  },
  {
   "cell_type": "markdown",
   "id": "fb5d9903",
   "metadata": {},
   "source": [
    "# Random Forest Classifier"
   ]
  },
  {
   "cell_type": "code",
   "execution_count": 4,
   "id": "0f24a02b",
   "metadata": {},
   "outputs": [],
   "source": [
    "from sklearn.ensemble import RandomForestClassifier\n",
    "\n",
    "rf = RandomForestClassifier(n_estimators=100)\n",
    "rf.fit(X_train, y_train)\n",
    "y_pred_1 = rf.predict(X_test)"
   ]
  },
  {
   "cell_type": "code",
   "execution_count": 9,
   "id": "c317d1a3",
   "metadata": {},
   "outputs": [
    {
     "data": {
      "image/png": "[encoded data removed]",
      "text/plain": [
       "<Figure size 640x480 with 2 Axes>"
      ]
     },
     "metadata": {},
     "output_type": "display_data"
    }
   ],
   "source": [
    "from sklearn.metrics import *\n",
    "plt.title('Random Forest Classifier Confusion Matrix')\n",
    "sns.heatmap(confusion_matrix(y_test, y_pred_1), annot=True, fmt='g')\n",
    "plt.show()"
   ]
  },
  {
   "cell_type": "code",
   "execution_count": 10,
   "id": "30b861a5",
   "metadata": {},
   "outputs": [
    {
     "name": "stdout",
     "output_type": "stream",
     "text": [
      "Accuracy is:  93.15\n"
     ]
    }
   ],
   "source": [
    "print(\"Accuracy is: \", accuracy_score(y_test, y_pred_1)*100)"
   ]
  },
  {
   "cell_type": "markdown",
   "id": "be87a43d",
   "metadata": {},
   "source": [
    "# Decision Tree Classifier"
   ]
  },
  {
   "cell_type": "code",
   "execution_count": 11,
   "id": "4b0e4894",
   "metadata": {},
   "outputs": [],
   "source": [
    "from sklearn.tree import DecisionTreeClassifier\n",
    "\n",
    "df = DecisionTreeClassifier(criterion='gini', random_state=100, max_depth=3, min_samples_leaf=5)\n",
    "df.fit(X_train, y_train)\n",
    "y_pred_2 = df.predict(X_test)"
   ]
  },
  {
   "cell_type": "code",
   "execution_count": 12,
   "id": "05970cec",
   "metadata": {},
   "outputs": [
    {
     "data": {
      "image/png": "[encoded data removed]",
      "text/plain": [
       "<Figure size 640x480 with 2 Axes>"
      ]
     },
     "metadata": {},
     "output_type": "display_data"
    }
   ],
   "source": [
    "plt.title('Decision Tree Classifier Confusion Matrix')\n",
    "sns.heatmap(confusion_matrix(y_test, y_pred_2), annot=True, fmt='g')\n",
    "plt.show()"
   ]
  },
  {
   "cell_type": "code",
   "execution_count": 13,
   "id": "0b896fc0",
   "metadata": {},
   "outputs": [
    {
     "name": "stdout",
     "output_type": "stream",
     "text": [
      "Accuracy is:  93.925\n"
     ]
    }
   ],
   "source": [
    "print(\"Accuracy is: \", accuracy_score(y_test, y_pred_2)*100)"
   ]
  },
  {
   "cell_type": "markdown",
   "id": "13c1dd53",
   "metadata": {},
   "source": [
    "# KNN Classifier"
   ]
  },
  {
   "cell_type": "code",
   "execution_count": 14,
   "id": "d9181f4f",
   "metadata": {},
   "outputs": [],
   "source": [
    "from sklearn.neighbors import KNeighborsClassifier\n",
    "\n",
    "knn = KNeighborsClassifier(n_neighbors=1)\n",
    "knn.fit(X_train, y_train)\n",
    "y_pred_3 = knn.predict(X_test)"
   ]
  },
  {
   "cell_type": "code",
   "execution_count": 15,
   "id": "648e4350",
   "metadata": {},
   "outputs": [
    {
     "data": {
      "image/png": "[encoded data removed]",
      "text/plain": [
       "<Figure size 640x480 with 2 Axes>"
      ]
     },
     "metadata": {},
     "output_type": "display_data"
    }
   ],
   "source": [
    "plt.title(\"KNN Confusion Matrix\")\n",
    "sns.heatmap(confusion_matrix(y_test, y_pred_3), annot=True, fmt='g')\n",
    "plt.show()"
   ]
  },
  {
   "cell_type": "code",
   "execution_count": 16,
   "id": "63a3bb41",
   "metadata": {},
   "outputs": [
    {
     "name": "stdout",
     "output_type": "stream",
     "text": [
      "Accuracy is  90.275\n"
     ]
    }
   ],
   "source": [
    "print(\"Accuracy is \", accuracy_score(y_test, y_pred_3)*100)"
   ]
  },
  {
   "cell_type": "markdown",
   "id": "528deba3",
   "metadata": {},
   "source": [
    "# Logistic Regression"
   ]
  },
  {
   "cell_type": "code",
   "execution_count": 24,
   "id": "d983da22",
   "metadata": {},
   "outputs": [],
   "source": [
    "#Scaling \n",
    "# from sklearn import preprocessing\n",
    "# from sklearn.preprocessing import MinMaxScaler\n",
    "# min_max_scaler = preprocessing.MinMaxScaler()\n",
    "# X_train = min_max_scaler.fit_transform(X_train)\n",
    "# X_test = min_max_scaler.transform(X_test)"
   ]
  },
  {
   "cell_type": "code",
   "execution_count": 27,
   "id": "6a0f3b8a",
   "metadata": {},
   "outputs": [],
   "source": [
    "from sklearn.linear_model import LogisticRegression\n",
    "\n",
    "logr = LogisticRegression(max_iter=500)\n",
    "logr.fit(X_train, y_train)\n",
    "y_pred_4 = logr.predict(X_test)"
   ]
  },
  {
   "cell_type": "code",
   "execution_count": 28,
   "id": "2f6c69f2",
   "metadata": {},
   "outputs": [
    {
     "data": {
      "image/png": "[encoded data removed]",
      "text/plain": [
       "<Figure size 640x480 with 2 Axes>"
      ]
     },
     "metadata": {},
     "output_type": "display_data"
    }
   ],
   "source": [
    "plt.title('Logistic Rregression Confusion Matrix')\n",
    "sns.heatmap(confusion_matrix(y_test, y_pred_4), annot=True, fmt='g')\n",
    "plt.show()"
   ]
  },
  {
   "cell_type": "code",
   "execution_count": 29,
   "id": "a91c9101",
   "metadata": {},
   "outputs": [
    {
     "name": "stdout",
     "output_type": "stream",
     "text": [
      "Accuracy is  94.025\n"
     ]
    }
   ],
   "source": [
    "print(\"Accuracy is \", accuracy_score(y_test, y_pred_4)*100)"
   ]
  },
  {
   "cell_type": "code",
   "execution_count": null,
   "id": "430869ad",
   "metadata": {},
   "outputs": [],
   "source": []
  }
 ],
 "metadata": {
  "kernelspec": {
   "display_name": "Python 3 (ipykernel)",
   "language": "python",
   "name": "python3"
  },
  "language_info": {
   "codemirror_mode": {
    "name": "ipython",
    "version": 3
   },
   "file_extension": ".py",
   "mimetype": "text/x-python",
   "name": "python",
   "nbconvert_exporter": "python",
   "pygments_lexer": "ipython3",
   "version": "3.10.9"
  }
 },
 "nbformat": 4,
 "nbformat_minor": 5
}
